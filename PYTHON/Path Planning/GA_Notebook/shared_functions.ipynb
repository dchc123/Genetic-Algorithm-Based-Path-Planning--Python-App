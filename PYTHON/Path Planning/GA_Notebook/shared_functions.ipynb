{
 "cells": [
  {
   "cell_type": "markdown",
   "metadata": {},
   "source": [
    "Concatenate individual"
   ]
  },
  {
   "cell_type": "code",
   "execution_count": 39,
   "metadata": {},
   "outputs": [],
   "source": [
    "def concatenate(start, goal, individual):\n",
    "    individual_full=individual.copy()\n",
    "\n",
    "    individual_full.insert(0,start)\n",
    "    individual_full.append(goal)\n",
    "\n",
    "    return individual_full"
   ]
  },
  {
   "attachments": {},
   "cell_type": "markdown",
   "metadata": {},
   "source": [
    "Crossover Methods:\n",
    "1. Single point crossover\n",
    "2. Uniform crossover\n",
    "3. Multipoint crossover"
   ]
  },
  {
   "cell_type": "code",
   "execution_count": 40,
   "metadata": {},
   "outputs": [],
   "source": [
    "def crossover_sp(parent1, parent2, co_rate, gene_len):\n",
    "    import numpy as np\n",
    "\n",
    "    # Perform one-point crossover\n",
    "    child1 = parent1.copy() \n",
    "    child2 = parent2.copy()\n",
    "    if np.random.rand() < co_rate:\n",
    "        crossover_point = np.random.randint(1, gene_len)\n",
    "        child1 = parent1[:crossover_point] + parent2[crossover_point:]\n",
    "        child2 = parent2[:crossover_point] + parent1[crossover_point:]\n",
    "    return child1, child2"
   ]
  },
  {
   "cell_type": "code",
   "execution_count": 41,
   "metadata": {},
   "outputs": [],
   "source": [
    "def crossover_uniform(parent1, parent2, co_rate, _):\n",
    "    \"\"\"\n",
    "    Uniform Crossover:\n",
    "    Randomly select genes from both parents to create offspring.\n",
    "    \"\"\"\n",
    "    import numpy as np\n",
    "\n",
    "    shorter_parent = parent1 if len(parent1) < len(parent2) else parent2\n",
    "    longer_parent = parent2 if len(parent1) < len(parent2) else parent1\n",
    "\n",
    "    child1 = shorter_parent.copy()\n",
    "    child2 = shorter_parent.copy()\n",
    "\n",
    "    for i in range(len(shorter_parent)):\n",
    "        if np.random.rand() < co_rate:\n",
    "            child1[i], child2[i] = child2[i], child1[i]\n",
    "\n",
    "    for i in range(len(shorter_parent), len(longer_parent)):\n",
    "        if np.random.rand() < co_rate:\n",
    "            if longer_parent == parent1:\n",
    "                child1.append(longer_parent[i])\n",
    "            else:\n",
    "                child2.append(longer_parent[i])\n",
    "\n",
    "    return child1, child2\n"
   ]
  },
  {
   "cell_type": "code",
   "execution_count": 42,
   "metadata": {},
   "outputs": [],
   "source": [
    "def crossover_mp(parent1, parent2, co_rate, gene_len):\n",
    "    import numpy as np\n",
    "\n",
    "    # Perform multipoint crossover\n",
    "    child1 = parent1.copy() \n",
    "    child2 = parent2.copy()\n",
    "    \n",
    "    if np.random.rand() < co_rate:\n",
    "        crossover_points = sorted(np.random.choice(range(gene_len), 4, replace=False))\n",
    "\n",
    "        # switch genes between parents in the crossover regions\n",
    "        for i in range(0, len(crossover_points), 2):\n",
    "            start = crossover_points[i]\n",
    "            end = crossover_points[i+1]\n",
    "            child1[start:end], child2[start:end] = child2[start:end], child1[start:end]\n",
    "\n",
    "    return child1, child2\n"
   ]
  },
  {
   "attachments": {},
   "cell_type": "markdown",
   "metadata": {},
   "source": [
    "Mutation Methods:\n",
    "1. Point mutation (random)\n",
    "2. Swap mutation\n",
    "3. Inversion mutation"
   ]
  },
  {
   "cell_type": "code",
   "execution_count": 43,
   "metadata": {},
   "outputs": [],
   "source": [
    "def mutate_random(individual, m_rate, gene_len, environment, dimensions):\n",
    "\n",
    "    import numpy as np\n",
    "    \n",
    "    # Perform random mutation\n",
    "    if np.random.rand() < m_rate:\n",
    "        \n",
    "        if dimensions==3:\n",
    "            index = np.random.randint(0, len(individual))\n",
    "            x = np.random.randint(low=0, high=environment.shape[0])\n",
    "            y = np.random.randint(low=0, high=environment.shape[1])\n",
    "            z = np.random.randint(low=0, high=environment.shape[2])\n",
    "\n",
    "            if environment[x, y, z] != 0:\n",
    "                individual[index] = (x, y, z)\n",
    "        else: \n",
    "            index = np.random.randint(0, len(individual))\n",
    "            x = np.random.randint(low=0, high=environment.shape[1])\n",
    "            y = np.random.randint(low=0, high=environment.shape[0])\n",
    "\n",
    "            if environment[y,x] != 0:\n",
    "                individual[index] = (x, y)\n",
    "\n",
    "    return individual"
   ]
  },
  {
   "cell_type": "code",
   "execution_count": 44,
   "metadata": {},
   "outputs": [],
   "source": [
    "def mutate_swap(individual, m_rate, gene_len, environment, dimensions):\n",
    "    import numpy as np\n",
    "    \n",
    "    # Perform swap mutation\n",
    "    if np.random.rand() < m_rate:\n",
    "        if dimensions == 3:\n",
    "            # check the length of the individual\n",
    "            if len(individual) > 1:\n",
    "                # select two distinct indices\n",
    "                index1, index2 = np.random.choice(len(individual), 2, replace=False)\n",
    "                # swap the two genes\n",
    "                individual[index1], individual[index2] = individual[index2], individual[index1]\n",
    "        else:\n",
    "            # check the length of the individual\n",
    "            if len(individual) > 1:\n",
    "                # select two distinct indices\n",
    "                index1, index2 = np.random.choice(len(individual), 2, replace=False)\n",
    "                # swap the two genes\n",
    "                individual[index1], individual[index2] = individual[index2], individual[index1]\n",
    "    \n",
    "    return individual\n"
   ]
  },
  {
   "cell_type": "code",
   "execution_count": 45,
   "metadata": {},
   "outputs": [],
   "source": [
    "def mutate_inversion(individual, m_rate, gene_len, environment, dimensions):\n",
    "    import numpy as np\n",
    "    \n",
    "    # Perform inversion mutation\n",
    "    if np.random.rand() < m_rate:\n",
    "        if len(individual) > 2:\n",
    "            index1, index2 = np.random.choice(len(individual), 2, replace=False)\n",
    "            if index2 < index1:\n",
    "                index1, index2 = index2, index1\n",
    "            individual[index1:index2+1] = individual[index1:index2+1][::-1]\n",
    "            \n",
    "    return individual\n"
   ]
  },
  {
   "attachments": {},
   "cell_type": "markdown",
   "metadata": {},
   "source": [
    "Post-Processing (Attempt all permuations  : 2^(n-2))"
   ]
  },
  {
   "cell_type": "code",
   "execution_count": 46,
   "metadata": {},
   "outputs": [
    {
     "name": "stdout",
     "output_type": "stream",
     "text": [
      "[[(1, 2), (4, 5)], [(1, 2), (3, 4), (4, 5)], [(1, 2), (5, 6), (4, 5)], [(1, 2), (2, 3), (4, 5)], [(1, 2), (3, 4), (5, 6), (4, 5)], [(1, 2), (3, 4), (2, 3), (4, 5)], [(1, 2), (5, 6), (2, 3), (4, 5)]]\n",
      "7\n"
     ]
    }
   ],
   "source": [
    "def get_permutations(lst):\n",
    "    import itertools\n",
    "\n",
    "    n = len(lst)\n",
    "    perms = [[lst[0]] + list(subset) + [lst[-1]] for r in range(n-2) for subset in itertools.combinations(lst[1:-1], r)]\n",
    "    return [x for i, x in enumerate(perms) if x not in perms[:i]]\n",
    "\n",
    "lst = [(1, 2), (3, 4), (5, 6), (2,3), (4,5)]\n",
    "result = get_permutations(lst)\n",
    "print(result)\n",
    "print(len(result))"
   ]
  },
  {
   "cell_type": "markdown",
   "metadata": {},
   "source": [
    "Termination Conditions:\n",
    "1. Number of generations\n",
    "2. Time limit\n",
    "3. Stagnation"
   ]
  },
  {
   "cell_type": "code",
   "execution_count": 47,
   "metadata": {},
   "outputs": [],
   "source": [
    "def termination_check(current_gen, current_time, average_fitness,NUM_GENERATIONS, TIME_LIMIT_GA, STAGNATION_NUM, method):\n",
    "    flag=0\n",
    "\n",
    "    if method=='generations':\n",
    "        if current_gen==NUM_GENERATIONS:\n",
    "            flag=1\n",
    "    elif method=='time':\n",
    "        if current_time>TIME_LIMIT_GA:\n",
    "            flag=1\n",
    "    elif method=='stagnation':\n",
    "        if len(average_fitness)>=STAGNATION_NUM:\n",
    "            flag=check_values(average_fitness, STAGNATION_NUM)\n",
    "\n",
    "    return flag"
   ]
  },
  {
   "cell_type": "code",
   "execution_count": 48,
   "metadata": {},
   "outputs": [],
   "source": [
    "def check_values(average_fitness, STAGNATION_NUM):\n",
    "    \"\"\"\n",
    "    Returns True if none of the x values in lst after the nth last element\n",
    "    are greater than the nth last x value, False otherwise.\n",
    "    \"\"\"\n",
    "    last_x = average_fitness[-STAGNATION_NUM]\n",
    "    for x in average_fitness[-STAGNATION_NUM+1:]:\n",
    "        if x > last_x:\n",
    "            return 0\n",
    "    return 1"
   ]
  }
 ],
 "metadata": {
  "kernelspec": {
   "display_name": "base",
   "language": "python",
   "name": "python3"
  },
  "language_info": {
   "codemirror_mode": {
    "name": "ipython",
    "version": 3
   },
   "file_extension": ".py",
   "mimetype": "text/x-python",
   "name": "python",
   "nbconvert_exporter": "python",
   "pygments_lexer": "ipython3",
   "version": "3.9.12"
  },
  "orig_nbformat": 4
 },
 "nbformat": 4,
 "nbformat_minor": 2
}
